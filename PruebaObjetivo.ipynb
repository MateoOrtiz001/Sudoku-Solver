{
  "nbformat": 4,
  "nbformat_minor": 0,
  "metadata": {
    "colab": {
      "provenance": [],
      "authorship_tag": "ABX9TyPeWsFZEdGkkBvrbLvkm8Lw",
      "include_colab_link": true
    },
    "kernelspec": {
      "name": "python3",
      "display_name": "Python 3"
    },
    "language_info": {
      "name": "python"
    }
  },
  "cells": [
    {
      "cell_type": "markdown",
      "metadata": {
        "id": "view-in-github",
        "colab_type": "text"
      },
      "source": [
        "<a href=\"https://colab.research.google.com/github/MateoOrtiz001/Sudoku-Solver/blob/main/PruebaObjetivo.ipynb\" target=\"_parent\"><img src=\"https://colab.research.google.com/assets/colab-badge.svg\" alt=\"Open In Colab\"/></a>"
      ]
    },
    {
      "cell_type": "markdown",
      "source": [
        "# Solución paso a paso del Sudoku"
      ],
      "metadata": {
        "id": "6xtV8W2-MxWK"
      }
    },
    {
      "cell_type": "code",
      "execution_count": 2,
      "metadata": {
        "colab": {
          "base_uri": "https://localhost:8080/"
        },
        "id": "DGmcxsmkMw3Q",
        "outputId": "3dfb28a2-db99-432c-c4c6-bc21f9671ba7"
      },
      "outputs": [
        {
          "output_type": "stream",
          "name": "stdout",
          "text": [
            "Cloning into 'Sudoku-Solver'...\n",
            "remote: Enumerating objects: 92, done.\u001b[K\n",
            "remote: Counting objects: 100% (92/92), done.\u001b[K\n",
            "remote: Compressing objects: 100% (64/64), done.\u001b[K\n",
            "remote: Total 92 (delta 29), reused 75 (delta 19), pack-reused 0 (from 0)\u001b[K\n",
            "Receiving objects: 100% (92/92), 1.21 MiB | 6.03 MiB/s, done.\n",
            "Resolving deltas: 100% (29/29), done.\n"
          ]
        }
      ],
      "source": [
        "!git clone https://github.com/MateoOrtiz001/Sudoku-Solver.git"
      ]
    },
    {
      "cell_type": "code",
      "source": [
        "%cd Sudoku-Solver\n",
        "!pip install -r requirements.txt"
      ],
      "metadata": {
        "colab": {
          "base_uri": "https://localhost:8080/"
        },
        "id": "Suq999V8M5aC",
        "outputId": "313fd0da-e451-4802-b912-40c707f8c346"
      },
      "execution_count": 7,
      "outputs": [
        {
          "output_type": "stream",
          "name": "stdout",
          "text": [
            "/content/Sudoku-Solver\n",
            "Collecting PyQt5==5.15.11 (from -r requirements.txt (line 2))\n",
            "  Downloading PyQt5-5.15.11-cp38-abi3-manylinux_2_17_x86_64.whl.metadata (2.1 kB)\n",
            "Collecting PyQt5-Qt5==5.15.2 (from -r requirements.txt (line 3))\n",
            "  Downloading PyQt5_Qt5-5.15.2-py3-none-manylinux2014_x86_64.whl.metadata (535 bytes)\n",
            "Collecting PyQt5-sip==12.17.1 (from -r requirements.txt (line 4))\n",
            "  Downloading pyqt5_sip-12.17.1-cp312-cp312-manylinux_2_5_x86_64.manylinux1_x86_64.whl.metadata (494 bytes)\n",
            "Collecting py-sudoku==2.0.0 (from -r requirements.txt (line 7))\n",
            "  Downloading py_sudoku-2.0.0-py3-none-any.whl.metadata (9.8 kB)\n",
            "Downloading PyQt5-5.15.11-cp38-abi3-manylinux_2_17_x86_64.whl (8.2 MB)\n",
            "\u001b[2K   \u001b[90m━━━━━━━━━━━━━━━━━━━━━━━━━━━━━━━━━━━━━━━━\u001b[0m \u001b[32m8.2/8.2 MB\u001b[0m \u001b[31m54.4 MB/s\u001b[0m eta \u001b[36m0:00:00\u001b[0m\n",
            "\u001b[?25hDownloading PyQt5_Qt5-5.15.2-py3-none-manylinux2014_x86_64.whl (59.9 MB)\n",
            "\u001b[2K   \u001b[90m━━━━━━━━━━━━━━━━━━━━━━━━━━━━━━━━━━━━━━━━\u001b[0m \u001b[32m59.9/59.9 MB\u001b[0m \u001b[31m17.5 MB/s\u001b[0m eta \u001b[36m0:00:00\u001b[0m\n",
            "\u001b[?25hDownloading pyqt5_sip-12.17.1-cp312-cp312-manylinux_2_5_x86_64.manylinux1_x86_64.whl (282 kB)\n",
            "\u001b[2K   \u001b[90m━━━━━━━━━━━━━━━━━━━━━━━━━━━━━━━━━━━━━━━━\u001b[0m \u001b[32m282.2/282.2 kB\u001b[0m \u001b[31m19.0 MB/s\u001b[0m eta \u001b[36m0:00:00\u001b[0m\n",
            "\u001b[?25hDownloading py_sudoku-2.0.0-py3-none-any.whl (9.7 kB)\n",
            "Installing collected packages: PyQt5-Qt5, PyQt5-sip, py-sudoku, PyQt5\n",
            "Successfully installed PyQt5-5.15.11 PyQt5-Qt5-5.15.2 PyQt5-sip-12.17.1 py-sudoku-2.0.0\n"
          ]
        }
      ]
    },
    {
      "cell_type": "code",
      "source": [
        "from sudoku import Sudoku\n",
        "import time\n",
        "import sys, os, statistics, random\n",
        "from src import SudokuProblem, aStarSearch, aStarSearchInstrumentado, sudokuHeuristic, uniformCostSearch, uniformCostSearchInstrumentado, blankHeuristic\n",
        "import tools\n",
        "from tools import imprimir_sudoku, aplicar_acciones, transformar_tablero\n",
        "from IPython.display import clear_output\n"
      ],
      "metadata": {
        "id": "1r_8Mr5WM9Mx"
      },
      "execution_count": 8,
      "outputs": []
    },
    {
      "cell_type": "code",
      "source": [
        "puzzle = Sudoku(3,seed=int(time.time() * 1000)).difficulty(0.6)\n",
        "puzzle.show()"
      ],
      "metadata": {
        "colab": {
          "base_uri": "https://localhost:8080/"
        },
        "id": "gEHiRd1DNs6R",
        "outputId": "f66f0390-7a23-40b4-d76d-a50052124ba8"
      },
      "execution_count": 9,
      "outputs": [
        {
          "output_type": "stream",
          "name": "stdout",
          "text": [
            "Puzzle has multiple solutions\n",
            "+-------+-------+-------+\n",
            "| 3 7   | 1     | 5 6 9 |\n",
            "|       | 7 8   |       |\n",
            "|       | 5   6 | 2     |\n",
            "+-------+-------+-------+\n",
            "| 1   4 |       |     3 |\n",
            "| 8     | 9 5   |   1 7 |\n",
            "| 7     |       |   8   |\n",
            "+-------+-------+-------+\n",
            "|   8 7 |     5 | 3 9   |\n",
            "|     1 | 3     |       |\n",
            "|   5 3 | 2   7 |   4   |\n",
            "+-------+-------+-------+\n",
            "\n"
          ]
        }
      ]
    },
    {
      "cell_type": "code",
      "source": [
        "A = transformar_tablero(puzzle.board)\n",
        "problem = SudokuProblem(A)\n",
        "solucion_astar, stats_astar = aStarSearchInstrumentado(problem, sudokuHeuristic)"
      ],
      "metadata": {
        "id": "kRlkPC9BNyC3"
      },
      "execution_count": 10,
      "outputs": []
    },
    {
      "cell_type": "code",
      "source": [
        "def solucionPaso_a_Paso(tablero_inicial, acciones, delay=0.5):\n",
        "    \"\"\"Muestra el tablero paso a paso aplicando cada acción.\"\"\"\n",
        "    tablero = [row[:] for row in tablero_inicial]  # Copia profunda\n",
        "    for i, accion in enumerate(acciones):\n",
        "        fila, columna, valor = accion\n",
        "        tablero[fila][columna] = valor\n",
        "        clear_output(wait=True)\n",
        "        print(f\"Paso {i+1}/{len(acciones)}: Coloca {valor} en ({fila},{columna})\")\n",
        "        imprimir_sudoku(tablero)\n",
        "        time.sleep(delay)"
      ],
      "metadata": {
        "id": "OdKGHHjQN3Q2"
      },
      "execution_count": 11,
      "outputs": []
    },
    {
      "cell_type": "code",
      "source": [
        "solucionPaso_a_Paso(A,solucion_astar)"
      ],
      "metadata": {
        "colab": {
          "base_uri": "https://localhost:8080/"
        },
        "id": "Wsm8nZUAN52k",
        "outputId": "b018a268-d2b4-4317-d544-e6481970f642"
      },
      "execution_count": 12,
      "outputs": [
        {
          "output_type": "stream",
          "name": "stdout",
          "text": [
            "Paso 48/48: Coloca 6 en (8,8)\n",
            "3 7 8 | 1 2 4 | 5 6 9 \n",
            "5 6 2 | 7 8 9 | 1 3 4 \n",
            "4 1 9 | 5 3 6 | 2 7 8 \n",
            "---------------------\n",
            "1 9 4 | 8 7 2 | 6 5 3 \n",
            "8 2 6 | 9 5 3 | 4 1 7 \n",
            "7 3 5 | 4 6 1 | 9 8 2 \n",
            "---------------------\n",
            "2 8 7 | 6 4 5 | 3 9 1 \n",
            "6 4 1 | 3 9 8 | 7 2 5 \n",
            "9 5 3 | 2 1 7 | 8 4 6 \n"
          ]
        }
      ]
    },
    {
      "cell_type": "code",
      "source": [],
      "metadata": {
        "id": "DzsOh2CyN6S2"
      },
      "execution_count": null,
      "outputs": []
    }
  ]
}